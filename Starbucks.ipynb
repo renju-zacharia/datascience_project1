{
 "cells": [
  {
   "cell_type": "markdown",
   "metadata": {},
   "source": [
    "# Forecast Suitable Zipcodes for Starbucks locations :\n",
    "## Based on the attributes of zipcdoes that have starbucks, analyse rest of the zipcodes in US and recommend potential locations"
   ]
  },
  {
   "cell_type": "code",
   "execution_count": 4,
   "metadata": {},
   "outputs": [],
   "source": [
    "#%matplotlib notebook\n",
    "import zipfile\n",
    "import gmaps\n",
    "import gmaps.datasets\n",
    "import os\n",
    "import pandas as pd\n",
    "import kaggle\n",
    "import requests\n",
    "import json\n",
    "from census import Census\n",
    "import matplotlib.pyplot as plt\n",
    "import requests\n",
    "import json\n",
    "from pygeocoder import Geocoder, GeocoderError\n",
    "from pyzipcode import ZipCodeDatabase\n",
    "import scipy.stats as stats\n",
    "\n",
    "# Census API Key\n",
    "from config import census_key, gkey\n",
    "c = Census(census_key, year=2013)\n",
    "gmaps.configure(api_key=gkey)\n",
    "\n",
    "#url for google geocode api\n",
    "basegeo_url = \"https://maps.googleapis.com/maps/api/geocode/json\""
   ]
  },
  {
   "cell_type": "markdown",
   "metadata": {},
   "source": [
    "### Read Merged and Cleansed Starbucks file"
   ]
  },
  {
   "cell_type": "code",
   "execution_count": 5,
   "metadata": {},
   "outputs": [
    {
     "data": {
      "text/html": [
       "<div>\n",
       "<style scoped>\n",
       "    .dataframe tbody tr th:only-of-type {\n",
       "        vertical-align: middle;\n",
       "    }\n",
       "\n",
       "    .dataframe tbody tr th {\n",
       "        vertical-align: top;\n",
       "    }\n",
       "\n",
       "    .dataframe thead th {\n",
       "        text-align: right;\n",
       "    }\n",
       "</style>\n",
       "<table border=\"1\" class=\"dataframe\">\n",
       "  <thead>\n",
       "    <tr style=\"text-align: right;\">\n",
       "      <th></th>\n",
       "      <th>Unnamed: 0</th>\n",
       "      <th>Zipcode</th>\n",
       "      <th>Population</th>\n",
       "      <th>Median Age</th>\n",
       "      <th>Household Income</th>\n",
       "      <th>Per Capita Income</th>\n",
       "      <th>Poverty Count</th>\n",
       "      <th>Employment Labor Force</th>\n",
       "      <th>Poverty Rate</th>\n",
       "      <th>Brand</th>\n",
       "      <th>...</th>\n",
       "      <th>Ownership Type</th>\n",
       "      <th>Street Address</th>\n",
       "      <th>City</th>\n",
       "      <th>State/Province</th>\n",
       "      <th>Country</th>\n",
       "      <th>Postcode</th>\n",
       "      <th>Phone Number</th>\n",
       "      <th>Timezone</th>\n",
       "      <th>Longitude</th>\n",
       "      <th>Latitude</th>\n",
       "    </tr>\n",
       "  </thead>\n",
       "  <tbody>\n",
       "    <tr>\n",
       "      <th>0</th>\n",
       "      <td>0</td>\n",
       "      <td>8518</td>\n",
       "      <td>5217.0</td>\n",
       "      <td>41.5</td>\n",
       "      <td>74286.0</td>\n",
       "      <td>33963.0</td>\n",
       "      <td>170.0</td>\n",
       "      <td>3220.0</td>\n",
       "      <td>3.258578</td>\n",
       "      <td>NaN</td>\n",
       "      <td>...</td>\n",
       "      <td>NaN</td>\n",
       "      <td>NaN</td>\n",
       "      <td>NaN</td>\n",
       "      <td>NaN</td>\n",
       "      <td>NaN</td>\n",
       "      <td>NaN</td>\n",
       "      <td>NaN</td>\n",
       "      <td>NaN</td>\n",
       "      <td>NaN</td>\n",
       "      <td>NaN</td>\n",
       "    </tr>\n",
       "    <tr>\n",
       "      <th>1</th>\n",
       "      <td>1</td>\n",
       "      <td>8520</td>\n",
       "      <td>27468.0</td>\n",
       "      <td>37.4</td>\n",
       "      <td>90293.0</td>\n",
       "      <td>37175.0</td>\n",
       "      <td>1834.0</td>\n",
       "      <td>16187.0</td>\n",
       "      <td>6.676860</td>\n",
       "      <td>NaN</td>\n",
       "      <td>...</td>\n",
       "      <td>NaN</td>\n",
       "      <td>NaN</td>\n",
       "      <td>NaN</td>\n",
       "      <td>NaN</td>\n",
       "      <td>NaN</td>\n",
       "      <td>NaN</td>\n",
       "      <td>NaN</td>\n",
       "      <td>NaN</td>\n",
       "      <td>NaN</td>\n",
       "      <td>NaN</td>\n",
       "    </tr>\n",
       "    <tr>\n",
       "      <th>2</th>\n",
       "      <td>2</td>\n",
       "      <td>8525</td>\n",
       "      <td>4782.0</td>\n",
       "      <td>47.1</td>\n",
       "      <td>118656.0</td>\n",
       "      <td>59848.0</td>\n",
       "      <td>43.0</td>\n",
       "      <td>3004.0</td>\n",
       "      <td>0.899205</td>\n",
       "      <td>NaN</td>\n",
       "      <td>...</td>\n",
       "      <td>NaN</td>\n",
       "      <td>NaN</td>\n",
       "      <td>NaN</td>\n",
       "      <td>NaN</td>\n",
       "      <td>NaN</td>\n",
       "      <td>NaN</td>\n",
       "      <td>NaN</td>\n",
       "      <td>NaN</td>\n",
       "      <td>NaN</td>\n",
       "      <td>NaN</td>\n",
       "    </tr>\n",
       "    <tr>\n",
       "      <th>3</th>\n",
       "      <td>3</td>\n",
       "      <td>8527</td>\n",
       "      <td>54867.0</td>\n",
       "      <td>42.2</td>\n",
       "      <td>88588.0</td>\n",
       "      <td>37021.0</td>\n",
       "      <td>2191.0</td>\n",
       "      <td>29204.0</td>\n",
       "      <td>3.993293</td>\n",
       "      <td>NaN</td>\n",
       "      <td>...</td>\n",
       "      <td>NaN</td>\n",
       "      <td>NaN</td>\n",
       "      <td>NaN</td>\n",
       "      <td>NaN</td>\n",
       "      <td>NaN</td>\n",
       "      <td>NaN</td>\n",
       "      <td>NaN</td>\n",
       "      <td>NaN</td>\n",
       "      <td>NaN</td>\n",
       "      <td>NaN</td>\n",
       "    </tr>\n",
       "    <tr>\n",
       "      <th>4</th>\n",
       "      <td>4</td>\n",
       "      <td>8528</td>\n",
       "      <td>245.0</td>\n",
       "      <td>48.5</td>\n",
       "      <td>58676.0</td>\n",
       "      <td>49117.0</td>\n",
       "      <td>0.0</td>\n",
       "      <td>130.0</td>\n",
       "      <td>0.000000</td>\n",
       "      <td>NaN</td>\n",
       "      <td>...</td>\n",
       "      <td>NaN</td>\n",
       "      <td>NaN</td>\n",
       "      <td>NaN</td>\n",
       "      <td>NaN</td>\n",
       "      <td>NaN</td>\n",
       "      <td>NaN</td>\n",
       "      <td>NaN</td>\n",
       "      <td>NaN</td>\n",
       "      <td>NaN</td>\n",
       "      <td>NaN</td>\n",
       "    </tr>\n",
       "  </tbody>\n",
       "</table>\n",
       "<p>5 rows × 22 columns</p>\n",
       "</div>"
      ],
      "text/plain": [
       "   Unnamed: 0  Zipcode  Population  Median Age  Household Income  \\\n",
       "0           0     8518      5217.0        41.5           74286.0   \n",
       "1           1     8520     27468.0        37.4           90293.0   \n",
       "2           2     8525      4782.0        47.1          118656.0   \n",
       "3           3     8527     54867.0        42.2           88588.0   \n",
       "4           4     8528       245.0        48.5           58676.0   \n",
       "\n",
       "   Per Capita Income  Poverty Count  Employment Labor Force  Poverty Rate  \\\n",
       "0            33963.0          170.0                  3220.0      3.258578   \n",
       "1            37175.0         1834.0                 16187.0      6.676860   \n",
       "2            59848.0           43.0                  3004.0      0.899205   \n",
       "3            37021.0         2191.0                 29204.0      3.993293   \n",
       "4            49117.0            0.0                   130.0      0.000000   \n",
       "\n",
       "  Brand  ... Ownership Type Street Address City State/Province Country  \\\n",
       "0   NaN  ...            NaN            NaN  NaN            NaN     NaN   \n",
       "1   NaN  ...            NaN            NaN  NaN            NaN     NaN   \n",
       "2   NaN  ...            NaN            NaN  NaN            NaN     NaN   \n",
       "3   NaN  ...            NaN            NaN  NaN            NaN     NaN   \n",
       "4   NaN  ...            NaN            NaN  NaN            NaN     NaN   \n",
       "\n",
       "  Postcode Phone Number Timezone Longitude Latitude  \n",
       "0      NaN          NaN      NaN       NaN      NaN  \n",
       "1      NaN          NaN      NaN       NaN      NaN  \n",
       "2      NaN          NaN      NaN       NaN      NaN  \n",
       "3      NaN          NaN      NaN       NaN      NaN  \n",
       "4      NaN          NaN      NaN       NaN      NaN  \n",
       "\n",
       "[5 rows x 22 columns]"
      ]
     },
     "execution_count": 5,
     "metadata": {},
     "output_type": "execute_result"
    }
   ],
   "source": [
    "# Read Merged and Cleansed Starbucks file\n",
    "\n",
    "read_file = os.path.join('Resources' , 'SB_Census_Data.csv')\n",
    "data_df = pd.read_csv(read_file)\n",
    "data_df.head()"
   ]
  },
  {
   "cell_type": "markdown",
   "metadata": {},
   "source": [
    "## Data Analysis - Plot the Mean for the variables chosen for analysis"
   ]
  },
  {
   "cell_type": "code",
   "execution_count": 6,
   "metadata": {},
   "outputs": [],
   "source": [
    "# Extracting information only for Starbucks zipcodes which have valid census data\n",
    "SB_df = data_df.loc[data_df[\"Brand\"] == \"Starbucks\",:]"
   ]
  },
  {
   "cell_type": "code",
   "execution_count": 7,
   "metadata": {},
   "outputs": [
    {
     "data": {
      "text/plain": [
       "65912.27100675357"
      ]
     },
     "execution_count": 7,
     "metadata": {},
     "output_type": "execute_result"
    }
   ],
   "source": [
    "# Extracting only zipcocodes which have a value greater than 0.\n",
    "SB_HHI_df = SB_df.loc[SB_df[\"Household Income\"] >= 0,:]\n",
    "SB_HHI_df[\"Household Income\"].mean()"
   ]
  },
  {
   "cell_type": "code",
   "execution_count": 8,
   "metadata": {},
   "outputs": [
    {
     "data": {
      "text/plain": [
       "53.74278323055918"
      ]
     },
     "execution_count": 8,
     "metadata": {},
     "output_type": "execute_result"
    }
   ],
   "source": [
    "# Determing the mean for Employment Percent\n",
    "\n",
    "data_df['Employment_PCT'] = ''\n",
    "data_df['Employment_PCT'] = data_df['Employment Labor Force'] * 100 / data_df['Population']\n",
    "empl_data_df = data_df[pd.notnull(data_df['Store Number'])  & data_df['Employment Labor Force'] > 0 ]\n",
    "empl_data_df['Employment_PCT'].mean()"
   ]
  },
  {
   "cell_type": "code",
   "execution_count": 9,
   "metadata": {},
   "outputs": [
    {
     "data": {
      "text/plain": [
       "37.24981679270289"
      ]
     },
     "execution_count": 9,
     "metadata": {},
     "output_type": "execute_result"
    }
   ],
   "source": [
    "# determing the mean for Median Age\n",
    "\n",
    "SB_ma_df = SB_df.loc[SB_df[\"Median Age\"] >= 0,:]\n",
    "SB_ma_df[\"Median Age\"].mean()\n"
   ]
  },
  {
   "cell_type": "code",
   "execution_count": 10,
   "metadata": {},
   "outputs": [
    {
     "data": {
      "text/plain": [
       "35435.6777665133"
      ]
     },
     "execution_count": 10,
     "metadata": {},
     "output_type": "execute_result"
    }
   ],
   "source": [
    "# Extracting only zipcocodes which have a value greater than 0.\n",
    "\n",
    "SB_pci_df = SB_df.loc[SB_df[\"Per Capita Income\"] >= 0,:]\n",
    "SB_pci_df[\"Per Capita Income\"].mean()"
   ]
  },
  {
   "cell_type": "code",
   "execution_count": 11,
   "metadata": {},
   "outputs": [],
   "source": [
    "# grouping by state for Employment PCT\n",
    "\n",
    "empl_grp = empl_data_df.groupby(by = 'State/Province')\n",
    "empl_epct_grp_mean = empl_grp['Employment_PCT'].mean()\n",
    "#empl_epct_grp_mean"
   ]
  },
  {
   "cell_type": "code",
   "execution_count": 12,
   "metadata": {},
   "outputs": [],
   "source": [
    "# grouping by state for Median Age\n",
    "\n",
    "empl_grp_ma = SB_ma_df.groupby(by = 'State/Province')\n",
    "empl_grp_ma_mean = empl_grp_ma['Median Age'].mean()\n",
    "#empl_grp_ma_mean"
   ]
  },
  {
   "cell_type": "code",
   "execution_count": 13,
   "metadata": {},
   "outputs": [],
   "source": [
    "# grouping by state for hh income\n",
    "\n",
    "str_grp = SB_HHI_df.groupby(by = 'State/Province')\n",
    "str_grp_cnt = str_grp['Household Income'].mean()\n",
    "#str_grp_cnt"
   ]
  },
  {
   "cell_type": "code",
   "execution_count": 14,
   "metadata": {},
   "outputs": [],
   "source": [
    "# Grouping by State for Per Capita Income\n",
    "\n",
    "str_grp_pci = SB_pci_df.groupby(by = 'State/Province')\n",
    "str_grp_pci_mean = str_grp['Per Capita Income'].mean()\n",
    "#str_grp_pci_mean"
   ]
  },
  {
   "cell_type": "code",
   "execution_count": 15,
   "metadata": {},
   "outputs": [
    {
     "data": {
      "image/png": "[encoded data removed]",
      "text/plain": [
       "<Figure size 648x216 with 1 Axes>"
      ]
     },
     "metadata": {
      "needs_background": "light"
     },
     "output_type": "display_data"
    }
   ],
   "source": [
    "# Plot for Mean Media Age\n",
    "\n",
    "empl_grp_ma_mean.plot(kind=\"bar\", title = \"Mean Median Age of Existing Starbucks Zipcodes by State\", figsize = (9,3))\n",
    "plt.ylabel(\"Mean Median Age\")\n",
    "plt.savefig('Images/Starbucks_Mean_Median_Age.png')\n",
    "plt.show()"
   ]
  },
  {
   "cell_type": "code",
   "execution_count": 16,
   "metadata": {},
   "outputs": [
    {
     "data": {
      "image/png": "[encoded data removed]",
      "text/plain": [
       "<Figure size 648x216 with 1 Axes>"
      ]
     },
     "metadata": {
      "needs_background": "light"
     },
     "output_type": "display_data"
    }
   ],
   "source": [
    "# Plot for Employment PCT\n",
    "\n",
    "empl_epct_grp_mean.plot(kind=\"bar\", title = \"Mean Employment Percent of Existing Starbucks Zipcodes by State\", figsize = (9,3))\n",
    "plt.ylabel(\"Mean Employment Percent\")\n",
    "plt.savefig('Images/Starbucks_Mean_Employment_Percent.png')\n",
    "plt.show()"
   ]
  },
  {
   "cell_type": "code",
   "execution_count": 17,
   "metadata": {},
   "outputs": [
    {
     "data": {
      "image/png": "[encoded data removed]",
      "text/plain": [
       "<Figure size 648x216 with 1 Axes>"
      ]
     },
     "metadata": {
      "needs_background": "light"
     },
     "output_type": "display_data"
    }
   ],
   "source": [
    "# Plot for Mediana HH Income\n",
    "\n",
    "str_grp_cnt.plot(kind=\"bar\", title = \"Mean Household Income of Existing Starbucks Zipcodes by State\", figsize = (9,3))\n",
    "plt.ylabel(\"Median HH Income\")\n",
    "plt.savefig('Images/Starbucks_Mean_HH_Income.png')\n",
    "plt.show()\n"
   ]
  },
  {
   "cell_type": "code",
   "execution_count": 18,
   "metadata": {},
   "outputs": [
    {
     "data": {
      "image/png": "[encoded data removed]",
      "text/plain": [
       "<Figure size 648x216 with 1 Axes>"
      ]
     },
     "metadata": {
      "needs_background": "light"
     },
     "output_type": "display_data"
    }
   ],
   "source": [
    "# plot for Mean Per capita income\n",
    "\n",
    "str_grp_pci_mean.plot(kind=\"bar\", title = \"Mean Per Capita Income of Existing Starbucks Zipcodes by State\", figsize = (9,3))\n",
    "plt.ylabel(\"Mean Per Capita Income\")\n",
    "plt.savefig('Images/Starbucks_Mean_Per_Capita_Income.png')\n",
    "plt.show()"
   ]
  },
  {
   "cell_type": "markdown",
   "metadata": {},
   "source": [
    "### Plot - \n",
    "     1. Starbucks latlong on Google maps\n",
    "     2. Number of Stores by State\n",
    "     3. Heatmap for number of stores "
   ]
  },
  {
   "cell_type": "code",
   "execution_count": 24,
   "metadata": {},
   "outputs": [],
   "source": [
    "#Get lat, long for Starbucks stores\n",
    "str_df_us = data_df.loc[data_df['Brand'] == 'Starbucks']\n",
    "\n",
    "locations = str_df_us[[\"Latitude\", \"Longitude\"]].astype(float)\n"
   ]
  },
  {
   "cell_type": "code",
   "execution_count": 25,
   "metadata": {},
   "outputs": [
    {
     "data": {
      "application/vnd.jupyter.widget-view+json": {
       "model_id": "b9a03cccce254788a6758887dbf1e722",
       "version_major": 2,
       "version_minor": 0
      },
      "text/plain": [
       "Figure(layout=FigureLayout(height='420px'))"
      ]
     },
     "metadata": {},
     "output_type": "display_data"
    }
   ],
   "source": [
    "#Plot the lat long on Google map\n",
    "fig = gmaps.figure()\n",
    "\n",
    "starbucks_layer = gmaps.symbol_layer(locations, fill_color='green', stroke_color='green', scale=2)\n",
    "fig.add_layer(starbucks_layer)\n",
    "fig\n"
   ]
  },
  {
   "cell_type": "code",
   "execution_count": 26,
   "metadata": {},
   "outputs": [],
   "source": [
    "#Group the starbucks dataset by State\n",
    "str_grp = str_df_us.groupby(by = 'State/Province')\n",
    "str_grp_cnt = str_grp['Store Number'].count()"
   ]
  },
  {
   "cell_type": "code",
   "execution_count": 27,
   "metadata": {},
   "outputs": [
    {
     "data": {
      "image/png": "[encoded data removed]",
      "text/plain": [
       "<Figure size 648x360 with 1 Axes>"
      ]
     },
     "metadata": {
      "needs_background": "light"
     },
     "output_type": "display_data"
    }
   ],
   "source": [
    "#Bar chart of Number of Stores by State\n",
    "str_grp_cnt.plot(kind=\"bar\", title = \"Number of Starbucks by State\", figsize = (9,5))\n",
    "plt.ylabel(\"Number of Stores\")\n",
    "plt.savefig('Images/Starbucks_Stores_State_Count')"
   ]
  },
  {
   "cell_type": "code",
   "execution_count": 28,
   "metadata": {},
   "outputs": [],
   "source": [
    "#Read in the state vs. Lat long file\n",
    "state_ll = os.path.join('Resources', 'state_lat_long.csv')\n",
    "state_ll_df = pd.read_csv(state_ll)"
   ]
  },
  {
   "cell_type": "code",
   "execution_count": 29,
   "metadata": {},
   "outputs": [],
   "source": [
    "#Merge the starbucks and State Lat Long dataframes\n",
    "str_ll_new = str_df_us.merge(state_ll_df, how = 'inner', on=\"State/Province\")"
   ]
  },
  {
   "cell_type": "code",
   "execution_count": 30,
   "metadata": {},
   "outputs": [],
   "source": [
    "#Group the merged dataframe by State\n",
    "str_ll_new_grp = str_ll_new.groupby(by = 'State/Province')\n",
    "lat = str_ll_new_grp['Latitude_y'].min()\n",
    "lng = str_ll_new_grp['Longitude_y'].min()"
   ]
  },
  {
   "cell_type": "code",
   "execution_count": 31,
   "metadata": {},
   "outputs": [],
   "source": [
    "#Create a dataframe with State Lat Long, Number of stores\n",
    "str_last_df = pd.DataFrame({ 'Lat' : lat, 'Lng' : lng, 'count' : str_grp['Store Number'].count() })"
   ]
  },
  {
   "cell_type": "code",
   "execution_count": 32,
   "metadata": {},
   "outputs": [
    {
     "data": {
      "application/vnd.jupyter.widget-view+json": {
       "model_id": "e449504d776d46e791883f48e412bf4f",
       "version_major": 2,
       "version_minor": 0
      },
      "text/plain": [
       "Figure(layout=FigureLayout(height='420px'))"
      ]
     },
     "metadata": {},
     "output_type": "display_data"
    }
   ],
   "source": [
    "#Draw a heat map of Starbucks by State\n",
    "#df = gmaps.datasets.load_dataset_as_df(str_last_df)\n",
    "# dataframe with columns ('latitude', 'longitude', 'magnitude')\n",
    "fig = gmaps.figure()\n",
    "heatmap_layer = gmaps.heatmap_layer( str_last_df[['Lat', 'Lng']], dissipating = False, weights=str_last_df['count'], max_intensity=100, point_radius=3.0 )\n",
    "heatmap_layer.dissipating = False\n",
    "heatmap_layer.max_intensity = 100\n",
    "heatmap_layer.point_radius = 1\n",
    "fig.add_layer(heatmap_layer)\n",
    "fig"
   ]
  },
  {
   "cell_type": "markdown",
   "metadata": {},
   "source": [
    "### Box plot for the variables "
   ]
  },
  {
   "cell_type": "code",
   "execution_count": 36,
   "metadata": {},
   "outputs": [
    {
     "name": "stdout",
     "output_type": "stream",
     "text": [
      "Mean age of all Starbucks locatin in US is 41.482632176501276 and Standard Deviation is 8.545608766385685\n"
     ]
    },
    {
     "data": {
      "image/png": "[encoded data removed]",
      "text/plain": [
       "<Figure size 360x360 with 1 Axes>"
      ]
     },
     "metadata": {
      "needs_background": "light"
     },
     "output_type": "display_data"
    }
   ],
   "source": [
    "# Median age of Starbucks Zip code\n",
    "\n",
    "grouped_combined_df = data_df.groupby([\"Zipcode\"])\n",
    "\n",
    "grouped_combined_df_age = grouped_combined_df['Median Age'].mean()\n",
    "\n",
    "grouped_combined_df_brand = grouped_combined_df['Brand'].first()\n",
    "\n",
    "grouped_df_new= pd.DataFrame({\"Brand\": grouped_combined_df_brand, \"Median Age\":grouped_combined_df_age })\n",
    "\n",
    "type_final_df = grouped_df_new[(grouped_df_new['Median Age'] >= 0)]\n",
    "\n",
    "mean_age = type_final_df[\"Median Age\"].mean()\n",
    "\n",
    "std_mean_age = type_final_df[\"Median Age\"].std(ddof=0)\n",
    "\n",
    "print(f\"Mean age of all Starbucks locatin in US is {mean_age} and Standard Deviation is {std_mean_age}\")\n",
    "\n",
    "type_final_df.boxplot(column='Median Age', figsize = (5,5))\n",
    "plt.savefig('Images/Boxplot_Median_Age.png')"
   ]
  },
  {
   "cell_type": "code",
   "execution_count": 37,
   "metadata": {},
   "outputs": [],
   "source": [
    "# Extracting information only for Starbucks zipcodes which have valid census data\n",
    "SB_df = data_df.loc[data_df[\"Brand\"] == \"Starbucks\",:]"
   ]
  },
  {
   "cell_type": "code",
   "execution_count": 38,
   "metadata": {},
   "outputs": [],
   "source": [
    "# Extracting only zipcocodes which have a value greater than 0.\n",
    "SB_HHI_df = SB_df.loc[SB_df[\"Household Income\"] >= 0,:]"
   ]
  },
  {
   "cell_type": "code",
   "execution_count": 39,
   "metadata": {},
   "outputs": [
    {
     "name": "stdout",
     "output_type": "stream",
     "text": [
      "65912.27100675357 25717.094950947954\n"
     ]
    }
   ],
   "source": [
    "#Caicluate Mean and Standard deviation for Household Income\n",
    "hhi_mean = SB_HHI_df['Household Income'].mean()\n",
    "hhi_std = SB_HHI_df['Household Income'].std()\n",
    "print(hhi_mean, hhi_std)"
   ]
  },
  {
   "cell_type": "code",
   "execution_count": 40,
   "metadata": {},
   "outputs": [
    {
     "data": {
      "image/png": "[encoded data removed]",
      "text/plain": [
       "<Figure size 360x360 with 1 Axes>"
      ]
     },
     "metadata": {
      "needs_background": "light"
     },
     "output_type": "display_data"
    }
   ],
   "source": [
    "#Box plot for Household Income\n",
    "SB_HHI_df.boxplot(column='Household Income', by='Country', figsize = (5,5))\n",
    "plt.savefig('Images/Boxplot_Household_Income.png')"
   ]
  },
  {
   "cell_type": "code",
   "execution_count": 41,
   "metadata": {},
   "outputs": [
    {
     "name": "stdout",
     "output_type": "stream",
     "text": [
      "35435.6777665133 17505.876261913785\n"
     ]
    },
    {
     "data": {
      "image/png": "[encoded data removed]",
      "text/plain": [
       "<Figure size 360x360 with 1 Axes>"
      ]
     },
     "metadata": {
      "needs_background": "light"
     },
     "output_type": "display_data"
    }
   ],
   "source": [
    "#Get Per capita Income greater than 0\n",
    "per_capita_df = data_df.loc[ (data_df['Per Capita Income'] > 0 ) & (data_df[\"Brand\"] == \"Starbucks\"),: ]\n",
    "\n",
    "# Get the mean and Standard deviation for Per Capita Income\n",
    "pci_mean = per_capita_df['Per Capita Income'].mean()\n",
    "pci_std = per_capita_df['Per Capita Income'].std()\n",
    "\n",
    "#Box plot for Per Capita Income\n",
    "per_capita_df.boxplot(column='Per Capita Income', by='Country', figsize = (5,5))\n",
    "plt.savefig('Images/Boxplot_Percapita_Income.png')\n",
    "\n",
    "print( pci_mean , pci_std)"
   ]
  },
  {
   "cell_type": "code",
   "execution_count": 42,
   "metadata": {},
   "outputs": [],
   "source": [
    "# Find the Percentage of population that is employed & create new dataframe for Starbucks with census info\n",
    "data_df['Employment_PCT'] = ''\n",
    "data_df['Employment_PCT'] = data_df['Employment Labor Force'] * 100 / data_df['Population']\n",
    "empl_data_df = data_df[pd.notnull(data_df['Store Number'])  & data_df['Employment Labor Force'] > 0 ]"
   ]
  },
  {
   "cell_type": "code",
   "execution_count": 43,
   "metadata": {},
   "outputs": [
    {
     "name": "stdout",
     "output_type": "stream",
     "text": [
      "53.74278323055918 7.6653268515194535\n"
     ]
    }
   ],
   "source": [
    "# Get the mean and Standard deviation for Employment Percentage\n",
    "empl_mean = empl_data_df['Employment_PCT'].mean()\n",
    "empl_sd = empl_data_df['Employment_PCT'].std()\n",
    "print(empl_mean, empl_sd)"
   ]
  },
  {
   "cell_type": "code",
   "execution_count": 44,
   "metadata": {},
   "outputs": [
    {
     "data": {
      "image/png": "[encoded data removed]",
      "text/plain": [
       "<Figure size 360x360 with 1 Axes>"
      ]
     },
     "metadata": {
      "needs_background": "light"
     },
     "output_type": "display_data"
    }
   ],
   "source": [
    "#Box plot for Employment Percentage\n",
    "empl_data_df.boxplot(column='Employment_PCT', by='Country', figsize = (5,5))\n",
    "plt.savefig('Images/Boxplot_Employment_pct.png')"
   ]
  },
  {
   "cell_type": "markdown",
   "metadata": {},
   "source": [
    "### Add a new column with Recommended value (Y/N) \n",
    "    by comparing the non starbucks zipcode's variables within 1 SD of the mean for non starbucks zipcodes."
   ]
  },
  {
   "cell_type": "code",
   "execution_count": 45,
   "metadata": {},
   "outputs": [],
   "source": [
    "#Add a new column - Recommended & populate it to 'Y' if Census attributes are withn one SD of mean\n",
    "data_df['Recommended'] = 'N'\n",
    "\n",
    "for index , row in data_df.iterrows():\n",
    "    if ( (row['Employment_PCT'] > (empl_mean - empl_sd))  &  \\\n",
    "         (row['Median Age']     > (mean_age - std_mean_age)) &  \\\n",
    "         (row['Median Age']     < (mean_age + std_mean_age))& \\\n",
    "         (row['Household Income'] > (hhi_mean - hhi_std)) & \\\n",
    "         (row['Household Income'] < (hhi_mean + hhi_std)) & \\\n",
    "         (row['Per Capita Income'] > (pci_mean - pci_std)) & \\\n",
    "         (row['Per Capita Income'] < (pci_mean + pci_std)) & \\\n",
    "         (str(row['Store Number']) == 'nan')): \\\n",
    "        data_df.loc[data_df['Zipcode'] == row['Zipcode'], 'Recommended'] = 'Y'    "
   ]
  },
  {
   "cell_type": "code",
   "execution_count": 46,
   "metadata": {},
   "outputs": [
    {
     "data": {
      "text/plain": [
       "N    30536\n",
       "Y    10729\n",
       "Name: Recommended, dtype: int64"
      ]
     },
     "execution_count": 46,
     "metadata": {},
     "output_type": "execute_result"
    }
   ],
   "source": [
    "#Number of records that are Recommended\n",
    "data_df['Recommended'].value_counts()"
   ]
  },
  {
   "cell_type": "code",
   "execution_count": 47,
   "metadata": {},
   "outputs": [],
   "source": [
    "#Create a dataframe with recommended set \n",
    "rec_df = data_df.loc[data_df['Recommended'] == 'Y']"
   ]
  },
  {
   "cell_type": "markdown",
   "metadata": {},
   "source": [
    "### Create a list of all zipcodes within 2 miles of Starbucks Zipcode.\n",
    "    This will be used to eliminate recommemdations"
   ]
  },
  {
   "cell_type": "code",
   "execution_count": 48,
   "metadata": {},
   "outputs": [
    {
     "name": "stdout",
     "output_type": "stream",
     "text": [
      "Error\n",
      "Error\n",
      "Error\n",
      "Error\n",
      "Error\n",
      "Error\n",
      "Error\n",
      "Error\n",
      "Error\n",
      "Error\n",
      "Error\n",
      "Error\n",
      "Error\n",
      "Error\n",
      "Error\n",
      "Error\n",
      "Error\n",
      "Error\n",
      "Error\n",
      "Error\n",
      "Error\n",
      "Error\n",
      "Error\n",
      "Error\n",
      "Error\n",
      "Error\n",
      "Error\n",
      "Error\n",
      "Error\n",
      "Error\n",
      "Error\n",
      "Error\n",
      "Error\n",
      "Error\n",
      "Error\n",
      "Error\n",
      "Error\n",
      "Error\n",
      "Error\n",
      "Error\n",
      "Error\n",
      "Error\n",
      "Error\n",
      "Error\n",
      "Error\n",
      "Error\n",
      "Error\n",
      "Error\n",
      "Error\n",
      "Error\n",
      "Error\n",
      "Error\n",
      "Error\n",
      "Error\n",
      "Error\n",
      "Error\n",
      "Error\n",
      "Error\n",
      "Error\n",
      "Error\n",
      "Error\n",
      "Error\n",
      "Error\n",
      "Error\n",
      "Error\n",
      "Error\n",
      "Error\n",
      "Error\n",
      "Error\n",
      "Error\n",
      "Error\n",
      "Error\n",
      "Error\n",
      "Error\n",
      "Error\n",
      "Error\n",
      "Error\n",
      "Error\n",
      "Error\n",
      "Error\n",
      "Error\n",
      "Error\n",
      "Error\n",
      "Error\n",
      "Error\n",
      "Error\n",
      "Error\n",
      "Error\n",
      "Error\n",
      "Error\n",
      "Error\n",
      "Error\n",
      "Error\n",
      "Error\n",
      "Error\n",
      "Error\n",
      "Error\n",
      "Error\n",
      "Error\n",
      "Error\n",
      "Error\n",
      "Error\n",
      "Error\n",
      "Error\n",
      "Error\n",
      "Error\n",
      "Error\n",
      "Error\n",
      "Error\n",
      "Error\n",
      "Error\n",
      "Error\n",
      "Error\n",
      "Error\n",
      "Error\n",
      "Error\n",
      "Error\n",
      "Error\n",
      "Error\n",
      "Error\n",
      "Error\n",
      "Error\n",
      "Error\n",
      "Error\n",
      "Error\n",
      "Error\n",
      "Error\n",
      "Error\n",
      "Error\n",
      "Error\n",
      "Error\n",
      "Error\n",
      "Error\n",
      "Error\n",
      "Error\n",
      "Error\n",
      "Error\n",
      "Error\n",
      "Error\n",
      "Error\n",
      "Error\n",
      "Error\n",
      "Error\n",
      "Error\n",
      "Error\n",
      "Error\n",
      "Error\n",
      "Error\n",
      "Error\n",
      "Error\n",
      "Error\n",
      "Error\n",
      "Error\n",
      "Error\n",
      "Error\n",
      "Error\n",
      "Error\n",
      "Error\n",
      "Error\n",
      "Error\n",
      "Error\n",
      "Error\n",
      "Error\n",
      "Error\n",
      "Error\n",
      "Error\n",
      "Error\n",
      "Error\n",
      "Error\n",
      "Error\n",
      "Error\n",
      "Error\n",
      "Error\n",
      "Error\n",
      "Error\n",
      "Error\n",
      "Error\n",
      "Error\n",
      "Error\n",
      "Error\n",
      "Error\n",
      "Error\n",
      "Error\n",
      "Error\n",
      "Error\n",
      "Error\n",
      "Error\n",
      "Error\n",
      "Error\n",
      "Error\n",
      "Error\n",
      "Error\n",
      "Error\n",
      "Error\n",
      "Error\n",
      "Error\n",
      "Error\n",
      "Error\n",
      "Error\n",
      "Error\n",
      "Error\n",
      "Error\n",
      "Error\n",
      "Error\n",
      "Error\n",
      "Error\n",
      "Error\n",
      "Error\n",
      "Error\n",
      "Error\n",
      "Error\n",
      "Error\n",
      "Error\n",
      "Error\n",
      "Error\n",
      "Error\n",
      "Error\n",
      "Error\n",
      "Error\n",
      "Error\n",
      "Error\n",
      "Error\n",
      "Error\n",
      "Error\n",
      "Error\n",
      "Error\n",
      "Error\n",
      "Error\n",
      "Error\n",
      "Error\n",
      "Error\n",
      "Error\n",
      "Error\n",
      "Error\n",
      "Error\n",
      "Error\n",
      "Error\n",
      "Error\n",
      "Error\n",
      "Error\n",
      "Error\n",
      "Error\n",
      "Error\n",
      "Error\n",
      "Error\n",
      "Error\n",
      "Error\n",
      "Error\n",
      "Error\n",
      "Error\n",
      "Error\n",
      "Error\n",
      "Error\n",
      "Error\n",
      "Error\n",
      "Error\n",
      "Error\n",
      "Error\n",
      "Error\n",
      "Error\n",
      "Error\n",
      "Error\n",
      "Error\n",
      "Error\n",
      "Error\n",
      "Error\n",
      "Error\n",
      "Error\n",
      "Error\n",
      "Error\n",
      "Error\n",
      "Error\n",
      "Error\n",
      "Error\n",
      "Error\n",
      "Error\n",
      "Error\n",
      "Error\n",
      "Error\n",
      "Error\n",
      "Error\n",
      "Error\n",
      "Error\n",
      "Error\n",
      "Error\n",
      "Error\n",
      "Error\n",
      "Error\n",
      "Error\n",
      "Error\n",
      "Error\n",
      "Error\n",
      "Error\n",
      "Error\n",
      "Error\n",
      "Error\n",
      "Error\n",
      "Error\n",
      "Error\n",
      "Error\n",
      "Error\n",
      "Error\n",
      "Error\n",
      "Error\n",
      "Error\n",
      "Error\n",
      "Error\n",
      "Error\n",
      "Error\n",
      "Error\n",
      "Error\n",
      "Error\n",
      "Error\n",
      "Error\n",
      "Error\n",
      "Error\n",
      "Error\n",
      "Error\n",
      "Error\n",
      "Error\n",
      "Error\n",
      "Error\n",
      "Error\n",
      "Error\n",
      "Error\n",
      "Error\n",
      "Error\n",
      "Error\n",
      "Error\n",
      "Error\n",
      "Error\n",
      "Error\n",
      "Error\n",
      "Error\n",
      "Error\n",
      "Error\n",
      "Error\n",
      "Error\n",
      "Error\n",
      "Error\n",
      "Error\n",
      "Error\n",
      "Error\n",
      "Error\n",
      "Error\n",
      "Error\n",
      "Error\n",
      "Error\n",
      "Error\n",
      "Error\n",
      "Error\n",
      "Error\n",
      "Error\n",
      "Error\n",
      "Error\n",
      "Error\n",
      "Error\n",
      "Error\n",
      "Error\n",
      "Error\n",
      "Error\n",
      "Error\n",
      "Error\n",
      "Error\n",
      "Error\n",
      "Error\n",
      "Error\n",
      "Error\n",
      "Error\n",
      "Error\n",
      "Error\n",
      "Error\n",
      "Error\n",
      "Error\n",
      "Error\n",
      "Error\n",
      "Error\n",
      "Error\n",
      "Error\n",
      "Error\n",
      "Error\n",
      "Error\n",
      "Error\n",
      "Error\n",
      "Error\n",
      "Error\n",
      "Error\n",
      "Error\n",
      "Error\n",
      "Error\n",
      "Error\n",
      "Error\n",
      "Error\n",
      "Error\n",
      "Error\n",
      "Error\n",
      "Error\n",
      "Error\n",
      "Error\n",
      "Error\n",
      "Error\n",
      "Error\n",
      "Error\n",
      "Error\n",
      "Error\n",
      "Error\n",
      "Error\n",
      "Error\n",
      "Error\n",
      "Error\n",
      "Error\n",
      "Error\n",
      "Error\n",
      "Error\n",
      "Error\n",
      "Error\n",
      "Error\n",
      "Error\n",
      "Error\n",
      "Error\n",
      "Error\n",
      "Error\n",
      "Error\n",
      "Error\n",
      "Error\n",
      "Error\n",
      "Error\n",
      "Error\n",
      "Error\n",
      "Error\n",
      "Error\n",
      "Error\n",
      "Error\n",
      "Error\n",
      "Error\n",
      "Error\n",
      "Error\n",
      "Error\n",
      "Error\n",
      "Error\n",
      "Error\n",
      "Error\n",
      "Error\n",
      "Error\n",
      "Error\n",
      "Error\n",
      "Error\n",
      "Error\n",
      "Error\n",
      "Error\n",
      "Error\n",
      "Error\n",
      "Error\n",
      "Error\n",
      "Error\n",
      "Error\n",
      "Error\n",
      "Error\n",
      "Error\n",
      "Error\n",
      "Error\n",
      "Error\n",
      "Error\n",
      "Error\n",
      "Error\n",
      "Error\n",
      "Error\n",
      "Error\n",
      "Error\n",
      "Error\n",
      "Error\n",
      "Error\n",
      "Error\n",
      "Error\n",
      "Error\n",
      "Error\n",
      "Error\n",
      "Error\n",
      "Error\n",
      "Error\n",
      "Error\n",
      "Error\n",
      "Error\n",
      "Error\n",
      "Error\n",
      "Error\n",
      "Error\n",
      "Error\n",
      "Error\n",
      "Error\n",
      "Error\n",
      "Error\n",
      "Error\n",
      "Error\n",
      "Error\n",
      "Error\n",
      "Error\n",
      "Error\n",
      "Error\n"
     ]
    }
   ],
   "source": [
    "#Create a list with all zipcodes with 2 miles of Starbucks zipcode.\n",
    "zcdb = ZipCodeDatabase()\n",
    "rec_l = []\n",
    "\n",
    "for zipcode in str_df_us.Zipcode:\n",
    "    try:\n",
    "        rec_l.append([z.zip for z in zcdb.get_zipcodes_around_radius(zipcode, 2)])\n",
    "    except:\n",
    "        print(\"Error\")    "
   ]
  },
  {
   "cell_type": "code",
   "execution_count": 50,
   "metadata": {},
   "outputs": [],
   "source": [
    "#flatten the list\n",
    "flat_list_str = [item for sublist in rec_l for item in sublist]"
   ]
  },
  {
   "cell_type": "code",
   "execution_count": 51,
   "metadata": {},
   "outputs": [
    {
     "name": "stderr",
     "output_type": "stream",
     "text": [
      "C:\\Users\\rz0001\\AppData\\Local\\Continuum\\anaconda3\\envs\\Pythondata\\lib\\site-packages\\ipykernel_launcher.py:2: SettingWithCopyWarning: \n",
      "A value is trying to be set on a copy of a slice from a DataFrame.\n",
      "Try using .loc[row_indexer,col_indexer] = value instead\n",
      "\n",
      "See the caveats in the documentation: http://pandas.pydata.org/pandas-docs/stable/indexing.html#indexing-view-versus-copy\n",
      "  \n"
     ]
    }
   ],
   "source": [
    "#Add a new column 'Another Store Present' and populate to 1 if there is a store within 2 miles\n",
    "rec_df['Another_Store_Present'] = rec_df.Zipcode.isin(flat_list_str).astype(int)"
   ]
  },
  {
   "cell_type": "code",
   "execution_count": 52,
   "metadata": {},
   "outputs": [
    {
     "data": {
      "text/plain": [
       "0    10232\n",
       "1      497\n",
       "Name: Another_Store_Present, dtype: int64"
      ]
     },
     "execution_count": 52,
     "metadata": {},
     "output_type": "execute_result"
    }
   ],
   "source": [
    "#Final recommended count of Zipcodes\n",
    "rec_df['Another_Store_Present'].value_counts()"
   ]
  },
  {
   "cell_type": "code",
   "execution_count": 53,
   "metadata": {},
   "outputs": [],
   "source": [
    "#Create final recommendation dataframe\n",
    "locations_rec = rec_df.loc[rec_df['Another_Store_Present'] == 0]\n",
    "locations_rec.to_csv('./Resources/Recommended_Zipcodes.csv')"
   ]
  },
  {
   "cell_type": "markdown",
   "metadata": {},
   "source": [
    "### Read in Zip to Lat Long file which is used to plot Recommended Zipcodes"
   ]
  },
  {
   "cell_type": "code",
   "execution_count": 54,
   "metadata": {},
   "outputs": [
    {
     "data": {
      "text/html": [
       "<div>\n",
       "<style scoped>\n",
       "    .dataframe tbody tr th:only-of-type {\n",
       "        vertical-align: middle;\n",
       "    }\n",
       "\n",
       "    .dataframe tbody tr th {\n",
       "        vertical-align: top;\n",
       "    }\n",
       "\n",
       "    .dataframe thead th {\n",
       "        text-align: right;\n",
       "    }\n",
       "</style>\n",
       "<table border=\"1\" class=\"dataframe\">\n",
       "  <thead>\n",
       "    <tr style=\"text-align: right;\">\n",
       "      <th></th>\n",
       "      <th>Zipcode</th>\n",
       "      <th>Lat</th>\n",
       "      <th>Lng</th>\n",
       "    </tr>\n",
       "  </thead>\n",
       "  <tbody>\n",
       "    <tr>\n",
       "      <th>0</th>\n",
       "      <td>601</td>\n",
       "      <td>18.180555</td>\n",
       "      <td>-66.749961</td>\n",
       "    </tr>\n",
       "    <tr>\n",
       "      <th>1</th>\n",
       "      <td>602</td>\n",
       "      <td>18.361945</td>\n",
       "      <td>-67.175597</td>\n",
       "    </tr>\n",
       "    <tr>\n",
       "      <th>2</th>\n",
       "      <td>603</td>\n",
       "      <td>18.455183</td>\n",
       "      <td>-67.119887</td>\n",
       "    </tr>\n",
       "    <tr>\n",
       "      <th>3</th>\n",
       "      <td>606</td>\n",
       "      <td>18.158345</td>\n",
       "      <td>-66.932911</td>\n",
       "    </tr>\n",
       "    <tr>\n",
       "      <th>4</th>\n",
       "      <td>610</td>\n",
       "      <td>18.295366</td>\n",
       "      <td>-67.125135</td>\n",
       "    </tr>\n",
       "  </tbody>\n",
       "</table>\n",
       "</div>"
      ],
      "text/plain": [
       "   Zipcode        Lat        Lng\n",
       "0      601  18.180555 -66.749961\n",
       "1      602  18.361945 -67.175597\n",
       "2      603  18.455183 -67.119887\n",
       "3      606  18.158345 -66.932911\n",
       "4      610  18.295366 -67.125135"
      ]
     },
     "execution_count": 54,
     "metadata": {},
     "output_type": "execute_result"
    }
   ],
   "source": [
    "#Read in Zip to Lat Long file\n",
    "zip_ll_file = os.path.join('Resources' , 'Zip_Lat_Long.txt')\n",
    "zip_ll_df = pd.read_csv(zip_ll_file)\n",
    "zip_ll_df.head()"
   ]
  },
  {
   "cell_type": "code",
   "execution_count": 55,
   "metadata": {},
   "outputs": [],
   "source": [
    "rec_zip_df = pd.DataFrame(locations_rec['Zipcode'].astype(int))\n",
    "rec_locations_ll = rec_zip_df.merge(zip_ll_df, how='inner', on=['Zipcode'])"
   ]
  },
  {
   "cell_type": "code",
   "execution_count": 56,
   "metadata": {},
   "outputs": [
    {
     "data": {
      "application/vnd.jupyter.widget-view+json": {
       "model_id": "a07d09d120464065a85350b2839e49d0",
       "version_major": 2,
       "version_minor": 0
      },
      "text/plain": [
       "Figure(layout=FigureLayout(height='420px'))"
      ]
     },
     "metadata": {},
     "output_type": "display_data"
    }
   ],
   "source": [
    "#Plot Recommendations \n",
    "#Get lat, long of final recommendations\n",
    "rec_locations_ll_df = rec_locations_ll[[\"Lat\", \"Lng\"]].astype(float)\n",
    "\n",
    "#Plot the lat long on Google map\n",
    "fig = gmaps.figure()\n",
    "\n",
    "try:\n",
    "    starbucks_layer2 = gmaps.symbol_layer(rec_locations_ll_df, fill_color='red', stroke_color='red', scale=2)\n",
    "except :\n",
    "    print(\"Bad Lat Long\")\n",
    "    \n",
    "fig.add_layer(starbucks_layer2)\n",
    "fig"
   ]
  },
  {
   "cell_type": "code",
   "execution_count": 54,
   "metadata": {},
   "outputs": [],
   "source": [
    "#Plot the Existing Stores and Recommended Stores \n",
    "#fig = gmaps.figure()\n",
    "\n",
    "#starbucks_layer = gmaps.symbol_layer(locations, fill_color='green', stroke_color='green', scale=1)\n",
    "\n",
    "#try:\n",
    "#    starbucks_layer2 = gmaps.symbol_layer(rec_locations_ll_df, fill_color='red', stroke_color='red', scale=2)\n",
    "#except :\n",
    "#    print(\"Bad Lat Long\")\n",
    "\n",
    "#fig.add_layer(starbucks_layer)\n",
    "#fig.add_layer(starbucks_layer2)\n",
    "\n",
    "#fig"
   ]
  },
  {
   "cell_type": "markdown",
   "metadata": {},
   "source": [
    "### Create Barchart for Existing stores vs. Recommded stores"
   ]
  },
  {
   "cell_type": "code",
   "execution_count": 58,
   "metadata": {},
   "outputs": [
    {
     "data": {
      "text/html": [
       "<div>\n",
       "<style scoped>\n",
       "    .dataframe tbody tr th:only-of-type {\n",
       "        vertical-align: middle;\n",
       "    }\n",
       "\n",
       "    .dataframe tbody tr th {\n",
       "        vertical-align: top;\n",
       "    }\n",
       "\n",
       "    .dataframe thead th {\n",
       "        text-align: right;\n",
       "    }\n",
       "</style>\n",
       "<table border=\"1\" class=\"dataframe\">\n",
       "  <thead>\n",
       "    <tr style=\"text-align: right;\">\n",
       "      <th></th>\n",
       "      <th>Zipcode</th>\n",
       "      <th>CITY</th>\n",
       "      <th>STATENAME</th>\n",
       "    </tr>\n",
       "  </thead>\n",
       "  <tbody>\n",
       "    <tr>\n",
       "      <th>0</th>\n",
       "      <td>501</td>\n",
       "      <td>Holtsville</td>\n",
       "      <td>NY</td>\n",
       "    </tr>\n",
       "    <tr>\n",
       "      <th>1</th>\n",
       "      <td>544</td>\n",
       "      <td>Holtsville</td>\n",
       "      <td>NY</td>\n",
       "    </tr>\n",
       "    <tr>\n",
       "      <th>2</th>\n",
       "      <td>601</td>\n",
       "      <td>Adjuntas</td>\n",
       "      <td>PR</td>\n",
       "    </tr>\n",
       "    <tr>\n",
       "      <th>3</th>\n",
       "      <td>602</td>\n",
       "      <td>Aguada</td>\n",
       "      <td>PR</td>\n",
       "    </tr>\n",
       "    <tr>\n",
       "      <th>4</th>\n",
       "      <td>603</td>\n",
       "      <td>Aguadilla</td>\n",
       "      <td>PR</td>\n",
       "    </tr>\n",
       "  </tbody>\n",
       "</table>\n",
       "</div>"
      ],
      "text/plain": [
       "   Zipcode        CITY STATENAME\n",
       "0      501  Holtsville        NY\n",
       "1      544  Holtsville        NY\n",
       "2      601    Adjuntas        PR\n",
       "3      602      Aguada        PR\n",
       "4      603   Aguadilla        PR"
      ]
     },
     "execution_count": 58,
     "metadata": {},
     "output_type": "execute_result"
    }
   ],
   "source": [
    "#Read in Zip to State file to get number of recommended stores by State\n",
    "state_zip_file = os.path.join(\"Resources\" , \"zip_to_state.csv\")\n",
    "state_zip_df = pd.read_csv(state_zip_file)\n",
    "state_zip_df.head()"
   ]
  },
  {
   "cell_type": "code",
   "execution_count": 59,
   "metadata": {},
   "outputs": [
    {
     "name": "stderr",
     "output_type": "stream",
     "text": [
      "C:\\Users\\rz0001\\AppData\\Local\\Continuum\\anaconda3\\envs\\Pythondata\\lib\\site-packages\\ipykernel_launcher.py:4: FutureWarning: The signature of `Series.to_csv` was aligned to that of `DataFrame.to_csv`, and argument 'header' will change its default value from False to True: please pass an explicit value to suppress this warning.\n",
      "  after removing the cwd from sys.path.\n"
     ]
    }
   ],
   "source": [
    "rec_zip_df = pd.DataFrame(locations_rec['Zipcode'].astype(int))\n",
    "rec_locations_ll = rec_zip_df.merge(state_zip_df, how='inner', on=['Zipcode'])\n",
    "rec_locations_gr = rec_locations_ll.groupby('STATENAME')['Zipcode'].count()\n",
    "rec_locations_gr.to_csv('./Resources/Recommedations_Count_By_State.csv')"
   ]
  },
  {
   "cell_type": "code",
   "execution_count": 60,
   "metadata": {},
   "outputs": [],
   "source": [
    "final_df = pd.DataFrame({\"Recommded_Count\" : rec_locations_gr , \"Existing_Count\" : str_grp_cnt})"
   ]
  },
  {
   "cell_type": "code",
   "execution_count": 61,
   "metadata": {},
   "outputs": [
    {
     "data": {
      "image/png": "[encoded data removed]",
      "text/plain": [
       "<Figure size 1440x720 with 1 Axes>"
      ]
     },
     "metadata": {
      "needs_background": "light"
     },
     "output_type": "display_data"
    }
   ],
   "source": [
    "final_df.plot(kind=\"bar\", title = \"Recommended Number of Starbucks by State\", figsize = (20,10))\n",
    "plt.savefig('Images/Current_vs_Recommended.png')"
   ]
  },
  {
   "cell_type": "code",
   "execution_count": 62,
   "metadata": {},
   "outputs": [
    {
     "data": {
      "image/png": "[encoded data removed]",
      "text/plain": [
       "<Figure size 1080x360 with 1 Axes>"
      ]
     },
     "metadata": {
      "needs_background": "light"
     },
     "output_type": "display_data"
    }
   ],
   "source": [
    "#Bar chart of Recommeded Number of Stores by State\n",
    "rec_locations_gr.plot(kind=\"bar\", title = \"Recommended Number of Starbucks by State\", figsize = (15,5))\n",
    "plt.ylabel(\"Number of Stores\")\n",
    "plt.savefig('Images/Recommended_Stores_By_State_Count.png')"
   ]
  },
  {
   "cell_type": "code",
   "execution_count": 63,
   "metadata": {},
   "outputs": [
    {
     "name": "stderr",
     "output_type": "stream",
     "text": [
      "C:\\Users\\rz0001\\AppData\\Local\\Continuum\\anaconda3\\envs\\Pythondata\\lib\\site-packages\\pandas\\core\\frame.py:4025: SettingWithCopyWarning: \n",
      "A value is trying to be set on a copy of a slice from a DataFrame\n",
      "\n",
      "See the caveats in the documentation: http://pandas.pydata.org/pandas-docs/stable/indexing.html#indexing-view-versus-copy\n",
      "  return super(DataFrame, self).rename(**kwargs)\n"
     ]
    },
    {
     "data": {
      "text/plain": [
       "65912.27100675357"
      ]
     },
     "execution_count": 63,
     "metadata": {},
     "output_type": "execute_result"
    }
   ],
   "source": [
    "#Independant Testing for Household Income\n",
    "data_df_sb = data_df.loc[ (data_df['Brand'] == 'Starbucks')  &  (data_df['Household Income'] > 0) ]\n",
    "data_df_sb.rename(columns={'Household Income':'Household_Income'}, inplace=True)\n",
    "data_df_sb['Household_Income'].mean()"
   ]
  },
  {
   "cell_type": "code",
   "execution_count": 64,
   "metadata": {},
   "outputs": [
    {
     "data": {
      "text/plain": [
       "49831.61869341448"
      ]
     },
     "execution_count": 64,
     "metadata": {},
     "output_type": "execute_result"
    }
   ],
   "source": [
    "data_df_nonsb = data_df.loc[ (data_df['Brand'] != 'Starbucks')  & (data_df['Household Income'] > 0) ]\n",
    "data_df_nonsb.rename(columns={'Household Income':'Household_Income'}, inplace=True)\n",
    "data_df_nonsb['Household_Income'].mean()"
   ]
  },
  {
   "cell_type": "markdown",
   "metadata": {},
   "source": [
    "# Independent t-test for Starbucks Zipcodes vs. Non Starbucks Zipcodes\n"
   ]
  },
  {
   "cell_type": "code",
   "execution_count": 65,
   "metadata": {},
   "outputs": [
    {
     "data": {
      "text/plain": [
       "Ttest_indResult(statistic=61.37455871570821, pvalue=0.0)"
      ]
     },
     "execution_count": 65,
     "metadata": {},
     "output_type": "execute_result"
    }
   ],
   "source": [
    "# Calculate Independent (Two Sample) T-Test\n",
    "stats.ttest_ind(data_df_sb.Household_Income, data_df_nonsb.Household_Income, equal_var=False)"
   ]
  },
  {
   "cell_type": "code",
   "execution_count": 66,
   "metadata": {},
   "outputs": [],
   "source": [
    "# Since p value is less than 0.05, Null Hypothesis is rejected.\n",
    "# Null Hypothesis - There is no difference in Household Income between zipcodes with Starbucks and Zipcodes w/o SB."
   ]
  },
  {
   "cell_type": "code",
   "execution_count": 67,
   "metadata": {},
   "outputs": [
    {
     "data": {
      "text/plain": [
       "35435.6777665133"
      ]
     },
     "execution_count": 67,
     "metadata": {},
     "output_type": "execute_result"
    }
   ],
   "source": [
    "#Independant Testing for Per Capita Income\n",
    "pci_df_sb = data_df.loc[ (data_df['Brand'] == 'Starbucks')  & (data_df['Per Capita Income'] > 0) ]\n",
    "pci_df_sb.rename(columns={'Per Capita Income':'Per_Capita_Income'}, inplace=True)\n",
    "pci_df_sb['Per_Capita_Income'].mean()"
   ]
  },
  {
   "cell_type": "code",
   "execution_count": 68,
   "metadata": {},
   "outputs": [
    {
     "data": {
      "text/plain": [
       "24788.634013204"
      ]
     },
     "execution_count": 68,
     "metadata": {},
     "output_type": "execute_result"
    }
   ],
   "source": [
    "pci_df_nonsb = data_df.loc[ (data_df['Brand'] != 'Starbucks')  & (data_df['Per Capita Income'] > 0) ]\n",
    "pci_df_nonsb.rename(columns={'Per Capita Income':'Per_Capita_Income'}, inplace=True)\n",
    "pci_df_nonsb['Per_Capita_Income'].mean()"
   ]
  },
  {
   "cell_type": "code",
   "execution_count": 69,
   "metadata": {},
   "outputs": [
    {
     "data": {
      "text/plain": [
       "Ttest_indResult(statistic=63.51504537189606, pvalue=0.0)"
      ]
     },
     "execution_count": 69,
     "metadata": {},
     "output_type": "execute_result"
    }
   ],
   "source": [
    "# Calculate Independent (Two Sample) T-Test\n",
    "stats.ttest_ind(pci_df_sb.Per_Capita_Income, pci_df_nonsb.Per_Capita_Income, equal_var=False)"
   ]
  },
  {
   "cell_type": "code",
   "execution_count": 70,
   "metadata": {},
   "outputs": [],
   "source": [
    "# Since p value is less than 0.05, Null Hypothesis is rejected.\n",
    "# Null Hypothesis - There is no difference in Percapita Income Income between zipcodes with Starbucks and Zipcodes w/o SB."
   ]
  },
  {
   "cell_type": "code",
   "execution_count": 71,
   "metadata": {},
   "outputs": [
    {
     "data": {
      "text/plain": [
       "37.24981679270289"
      ]
     },
     "execution_count": 71,
     "metadata": {},
     "output_type": "execute_result"
    }
   ],
   "source": [
    "#Independant Testing for Median Age\n",
    "mi_df_sb = data_df.loc[ (data_df['Brand'] == 'Starbucks')  & (data_df['Median Age'] > 0) ]\n",
    "mi_df_sb.rename(columns={'Median Age':'Median_Age'}, inplace=True)\n",
    "mi_df_sb['Median_Age'].mean()"
   ]
  },
  {
   "cell_type": "code",
   "execution_count": 72,
   "metadata": {},
   "outputs": [
    {
     "data": {
      "text/plain": [
       "42.28496777757319"
      ]
     },
     "execution_count": 72,
     "metadata": {},
     "output_type": "execute_result"
    }
   ],
   "source": [
    "#Independant Testing for Per Capita Income\n",
    "mi_df_nonsb = data_df.loc[ (data_df['Brand'] != 'Starbucks')  & (data_df['Median Age'] > 0) ]\n",
    "mi_df_nonsb.rename(columns={'Median Age':'Median_Age'}, inplace=True)\n",
    "mi_df_nonsb['Median_Age'].mean()"
   ]
  },
  {
   "cell_type": "code",
   "execution_count": 73,
   "metadata": {},
   "outputs": [
    {
     "data": {
      "text/plain": [
       "Ttest_indResult(statistic=-66.22569462383159, pvalue=0.0)"
      ]
     },
     "execution_count": 73,
     "metadata": {},
     "output_type": "execute_result"
    }
   ],
   "source": [
    "# Calculate Independent (Two Sample) T-Test\n",
    "stats.ttest_ind(mi_df_sb.Median_Age, mi_df_nonsb.Median_Age, equal_var=False)"
   ]
  },
  {
   "cell_type": "code",
   "execution_count": 74,
   "metadata": {},
   "outputs": [],
   "source": [
    "# Since p value is less than 0.05, Null Hypothesis is rejected.\n",
    "# Null Hypothesis - There is no difference in Median Age between zipcodes with Starbucks and Zipcodes w/o SB."
   ]
  },
  {
   "cell_type": "code",
   "execution_count": 75,
   "metadata": {},
   "outputs": [
    {
     "name": "stderr",
     "output_type": "stream",
     "text": [
      "C:\\Users\\rz0001\\AppData\\Local\\Continuum\\anaconda3\\envs\\Pythondata\\lib\\site-packages\\ipykernel_launcher.py:3: SettingWithCopyWarning: \n",
      "A value is trying to be set on a copy of a slice from a DataFrame.\n",
      "Try using .loc[row_indexer,col_indexer] = value instead\n",
      "\n",
      "See the caveats in the documentation: http://pandas.pydata.org/pandas-docs/stable/indexing.html#indexing-view-versus-copy\n",
      "  This is separate from the ipykernel package so we can avoid doing imports until\n"
     ]
    },
    {
     "data": {
      "text/plain": [
       "53.74278323055918"
      ]
     },
     "execution_count": 75,
     "metadata": {},
     "output_type": "execute_result"
    }
   ],
   "source": [
    "#Independant Testing for Employment_Percentage\n",
    "epct_df_sb = data_df.loc[ (data_df['Brand'] == 'Starbucks')  & (data_df['Employment Labor Force'] > 0) ]\n",
    "epct_df_sb['Employment_PCT'] = data_df['Employment Labor Force'] * 100 / data_df['Population'] \n",
    "epct_df_sb['Employment_PCT'].mean()"
   ]
  },
  {
   "cell_type": "code",
   "execution_count": 76,
   "metadata": {},
   "outputs": [
    {
     "name": "stderr",
     "output_type": "stream",
     "text": [
      "C:\\Users\\rz0001\\AppData\\Local\\Continuum\\anaconda3\\envs\\Pythondata\\lib\\site-packages\\ipykernel_launcher.py:2: SettingWithCopyWarning: \n",
      "A value is trying to be set on a copy of a slice from a DataFrame.\n",
      "Try using .loc[row_indexer,col_indexer] = value instead\n",
      "\n",
      "See the caveats in the documentation: http://pandas.pydata.org/pandas-docs/stable/indexing.html#indexing-view-versus-copy\n",
      "  \n"
     ]
    },
    {
     "data": {
      "text/plain": [
       "48.37130822384591"
      ]
     },
     "execution_count": 76,
     "metadata": {},
     "output_type": "execute_result"
    }
   ],
   "source": [
    "epct_df_nonsb = data_df.loc[ (data_df['Brand'] != 'Starbucks')  & (data_df['Employment Labor Force'] > 0) ]\n",
    "epct_df_nonsb['Employment_PCT'] = data_df['Employment Labor Force'] * 100 / data_df['Population'] \n",
    "epct_df_nonsb['Employment_PCT'].mean()"
   ]
  },
  {
   "cell_type": "code",
   "execution_count": 77,
   "metadata": {},
   "outputs": [
    {
     "data": {
      "text/plain": [
       "Ttest_indResult(statistic=58.003017863004516, pvalue=0.0)"
      ]
     },
     "execution_count": 77,
     "metadata": {},
     "output_type": "execute_result"
    }
   ],
   "source": [
    "# Calculate Independent (Two Sample) T-Test\n",
    "stats.ttest_ind(epct_df_sb.Employment_PCT, epct_df_nonsb.Employment_PCT, equal_var=False)"
   ]
  },
  {
   "cell_type": "code",
   "execution_count": 78,
   "metadata": {},
   "outputs": [],
   "source": [
    "# Since p value is less than 0.05, Null Hypothesis is rejected.\n",
    "# Null Hypothesis - There is no difference in Employment Percentage between zipcodes with Starbucks and Zipcodes w/o SB."
   ]
  },
  {
   "cell_type": "code",
   "execution_count": null,
   "metadata": {},
   "outputs": [],
   "source": []
  }
 ],
 "metadata": {
  "kernelspec": {
   "display_name": "Python (PythonData)",
   "language": "python",
   "name": "pythondata"
  },
  "language_info": {
   "codemirror_mode": {
    "name": "ipython",
    "version": 3
   },
   "file_extension": ".py",
   "mimetype": "text/x-python",
   "name": "python",
   "nbconvert_exporter": "python",
   "pygments_lexer": "ipython3",
   "version": "3.7.2"
  }
 },
 "nbformat": 4,
 "nbformat_minor": 2
}
